{
 "cells": [
  {
   "cell_type": "code",
   "execution_count": 11,
   "id": "9d4febb8-497d-4940-b9a2-19cbc81e096b",
   "metadata": {},
   "outputs": [
    {
     "name": "stdin",
     "output_type": "stream",
     "text": [
      "Nhập một số nguyên :  1234\n"
     ]
    },
    {
     "name": "stdout",
     "output_type": "stream",
     "text": [
      "4321\n"
     ]
    }
   ],
   "source": [
    "#Bài 1\n",
    "a = input(\"Nhập một số nguyên : \")\n",
    "b = a[::-1]\n",
    "print(b)"
   ]
  },
  {
   "cell_type": "code",
   "execution_count": 13,
   "id": "a237415e-150a-4b3c-ae64-09155782dca9",
   "metadata": {},
   "outputs": [
    {
     "name": "stdin",
     "output_type": "stream",
     "text": [
      "Nhập vào a:  3\n",
      "Nhập vào b: 4\n"
     ]
    },
    {
     "name": "stdout",
     "output_type": "stream",
     "text": [
      "4 3\n"
     ]
    }
   ],
   "source": [
    "#Bài 2\n",
    "a = int(input(\"Nhập vào a: \"))\n",
    "b = int(input(\"Nhập vào b:\"))\n",
    "\n",
    "a = a ^ b\n",
    "b = a ^ b\n",
    "a = a ^ b\n",
    "\n",
    "print(a,b)"
   ]
  },
  {
   "cell_type": "code",
   "execution_count": 10,
   "id": "9422d239-b2ee-4c11-a863-afd7845e0f54",
   "metadata": {},
   "outputs": [
    {
     "name": "stdin",
     "output_type": "stream",
     "text": [
      "Nhập vào một số nguyên:  2345\n"
     ]
    },
    {
     "name": "stdout",
     "output_type": "stream",
     "text": [
      "False\n"
     ]
    }
   ],
   "source": [
    "#Bài 3\n",
    "a = int(input(\"Nhập vào một số nguyên: \"))\n",
    "print(a>0 and (a & (a-1)==0))"
   ]
  },
  {
   "cell_type": "code",
   "execution_count": 17,
   "id": "075f6882-d4e3-40b5-a432-13a750e39005",
   "metadata": {},
   "outputs": [
    {
     "name": "stdin",
     "output_type": "stream",
     "text": [
      "Nhập vào m:  10\n",
      "Nhập vào n:  6\n"
     ]
    },
    {
     "name": "stdout",
     "output_type": "stream",
     "text": [
      "1\n"
     ]
    }
   ],
   "source": [
    "#Bài 4\n",
    "import math\n",
    "m = int(input(\"Nhập vào m: \"))\n",
    "n = int(input(\"Nhập vào n: \"))\n",
    "a = m / n\n",
    "print(math.floor(a))"
   ]
  },
  {
   "cell_type": "code",
   "execution_count": 18,
   "id": "45ced1f1-2720-45ab-80c9-a98bb62a272f",
   "metadata": {},
   "outputs": [
    {
     "name": "stdin",
     "output_type": "stream",
     "text": [
      "Nhập vào m: 3\n",
      "Nhập vào n:  2\n"
     ]
    },
    {
     "name": "stdout",
     "output_type": "stream",
     "text": [
      "2\n"
     ]
    }
   ],
   "source": [
    "#Bài 5\n",
    "import math\n",
    "m = int(input(\"Nhập vào m:\"))\n",
    "n = int(input(\"Nhập vào n: \"))\n",
    "a = m / n\n",
    "print(math.ceil(a))\n"
   ]
  },
  {
   "cell_type": "code",
   "execution_count": 2,
   "id": "cde7f86d-0f18-4379-ba10-d840c48a719a",
   "metadata": {},
   "outputs": [
    {
     "name": "stdin",
     "output_type": "stream",
     "text": [
      "Nhập vào số nguyên dương:  4\n"
     ]
    },
    {
     "name": "stdout",
     "output_type": "stream",
     "text": [
      "Even\n"
     ]
    }
   ],
   "source": [
    "#Bài 6\n",
    "x = int(input(\"Nhập vào số nguyên dương: \"))\n",
    "if x % 2 == 0 :\n",
    "    print(\"Even\")\n",
    "else:\n",
    "    print(\"Odd\")"
   ]
  },
  {
   "cell_type": "code",
   "execution_count": 3,
   "id": "a95712f5-56a2-4257-a576-b11df502f443",
   "metadata": {},
   "outputs": [
    {
     "name": "stdin",
     "output_type": "stream",
     "text": [
      "Nhập a:  -3\n",
      "Nhập b:  -4\n"
     ]
    },
    {
     "name": "stdout",
     "output_type": "stream",
     "text": [
      "Yes\n"
     ]
    }
   ],
   "source": [
    "#Bài 7\n",
    "a = int(input(\"Nhập a: \"))\n",
    "b = int(input(\"Nhập b: \"))\n",
    "if a < 0 and b < 0:\n",
    "    print(\"Yes\")\n",
    "else:\n",
    "    print(\"No\")"
   ]
  },
  {
   "cell_type": "code",
   "execution_count": 4,
   "id": "012da2a2-2e08-4d02-b07e-37d071537d6c",
   "metadata": {},
   "outputs": [
    {
     "name": "stdin",
     "output_type": "stream",
     "text": [
      "Nhập kí tự vào a:  asd\n",
      "Nhập kí tự vào b:  as\n"
     ]
    },
    {
     "name": "stdout",
     "output_type": "stream",
     "text": [
      "True\n"
     ]
    }
   ],
   "source": [
    "#Bài 8\n",
    "a = input(\"Nhập kí tự vào a: \")\n",
    "b = input(\"Nhập kí tự vào b: \")\n",
    "print(len(a) > len(b))"
   ]
  },
  {
   "cell_type": "code",
   "execution_count": 6,
   "id": "12ef46da-9463-4f9f-8580-f8a02e50a90c",
   "metadata": {},
   "outputs": [
    {
     "name": "stdin",
     "output_type": "stream",
     "text": [
      "Nhập a:  1\n",
      "Nhập b:  2\n",
      "Nhập c:  3\n"
     ]
    },
    {
     "name": "stdout",
     "output_type": "stream",
     "text": [
      "No\n"
     ]
    }
   ],
   "source": [
    "#Bài 9\n",
    "a = int(input(\"Nhập a: \" ))\n",
    "b = int(input(\"Nhập b: \"))\n",
    "c = int(input(\"Nhập c: \"))\n",
    "if a+b>c and a+c>b and b+c>a :\n",
    "    print(\"Yes\")\n",
    "else:\n",
    "    print(\"No\")"
   ]
  },
  {
   "cell_type": "code",
   "execution_count": 7,
   "id": "0d94090c-1240-4666-872a-abbc96d5343f",
   "metadata": {},
   "outputs": [
    {
     "name": "stdin",
     "output_type": "stream",
     "text": [
      "a=  1\n",
      "b=  2\n",
      "c=  3\n",
      "d=  4\n"
     ]
    },
    {
     "name": "stdout",
     "output_type": "stream",
     "text": [
      "4\n"
     ]
    }
   ],
   "source": [
    "#Bài 10\n",
    "a = int(input(\"a= \"))\n",
    "b = int(input(\"b= \"))\n",
    "c = int(input(\"c= \"))\n",
    "d = int(input(\"d= \"))\n",
    "lon_nhat = max(a,b,c,d)\n",
    "print(lon_nhat)"
   ]
  },
  {
   "cell_type": "code",
   "execution_count": 11,
   "id": "b30f32dc-c5b9-43af-b4d9-81b902f59277",
   "metadata": {},
   "outputs": [
    {
     "name": "stdin",
     "output_type": "stream",
     "text": [
      "a=  3\n",
      "b=  3\n",
      "c=  4\n"
     ]
    },
    {
     "name": "stdout",
     "output_type": "stream",
     "text": [
      "Tam giác cân\n"
     ]
    }
   ],
   "source": [
    "#Bài 11\n",
    "a = int(input(\"a= \"))\n",
    "b = int(input(\"b= \"))\n",
    "c = int(input(\"c= \"))\n",
    "\n",
    "if a+b>c and a+c>b and b+c>a :\n",
    "    if a==b==c :\n",
    "        print(\"Tam giác đều\")\n",
    "    elif a==b!=c or a==c!=b or b==c!=a:\n",
    "        print(\"Tam giác cân\")\n",
    "    else:\n",
    "        print(\"Tam giác thường\")\n",
    "else:\n",
    "    print(\"Không phải tam giác\")\n",
    "        "
   ]
  },
  {
   "cell_type": "code",
   "execution_count": 21,
   "id": "9549dfd3-1879-4ead-9662-ff21cf8f19d5",
   "metadata": {},
   "outputs": [
    {
     "name": "stdin",
     "output_type": "stream",
     "text": [
      "Nhập số năm: 1904\n"
     ]
    },
    {
     "name": "stdout",
     "output_type": "stream",
     "text": [
      "Yes\n"
     ]
    }
   ],
   "source": [
    "#Bài 12\n",
    "n = int(input(\"Nhập số năm:\"))\n",
    "if n % 4 == 0 and n % 100 != 0 or n % 400 ==0 :\n",
    "    print(\"Yes\")\n",
    "else:\n",
    "    print(\"No\")"
   ]
  },
  {
   "cell_type": "code",
   "execution_count": 5,
   "id": "19ae7841-66d4-4a2c-a0bf-1623b5b0966c",
   "metadata": {},
   "outputs": [
    {
     "name": "stdin",
     "output_type": "stream",
     "text": [
      "Nhập vào số kWh tiêu thụ:  100\n"
     ]
    },
    {
     "name": "stdout",
     "output_type": "stream",
     "text": [
      "175000\n"
     ]
    }
   ],
   "source": [
    "#Bài 13\n",
    "a = int(input(\"Nhập vào số kWh tiêu thụ: \"))\n",
    "if a<=50:\n",
    "    print(a*1500)\n",
    "elif a<=100:\n",
    "    print(50*1500 + (a-50)*2000)\n",
    "else:\n",
    "    print(50*1500 + 50*2000 +(a-100)*3000)\n"
   ]
  },
  {
   "cell_type": "code",
   "execution_count": 20,
   "id": "cf148f81-00fc-47ea-a551-584f004ab1d4",
   "metadata": {},
   "outputs": [
    {
     "name": "stdin",
     "output_type": "stream",
     "text": [
      "Nhập vào a:  3\n",
      "Nhập vào b:  -9\n"
     ]
    },
    {
     "name": "stdout",
     "output_type": "stream",
     "text": [
      "3.00\n"
     ]
    }
   ],
   "source": [
    "#Bài 14\n",
    "a = float(input(\"Nhập vào a: \"))\n",
    "b = float(input(\"Nhập vào b: \"))\n",
    "\n",
    "if a==0 and b==0:\n",
    "    print(\"Vô số nghiệm\")\n",
    "elif a==0 and b!=0:\n",
    "    print(\"Vô nghiệm\")\n",
    "else:\n",
    "    x = -b/a\n",
    "    print(\"{:.2f}\".format(x))\n"
   ]
  },
  {
   "cell_type": "code",
   "execution_count": 22,
   "id": "9ecaa3b0-6b5f-4d0f-8f94-79fc2cd00b27",
   "metadata": {},
   "outputs": [
    {
     "name": "stdin",
     "output_type": "stream",
     "text": [
      "Nhập điểm trung bình:  4.9\n"
     ]
    },
    {
     "name": "stdout",
     "output_type": "stream",
     "text": [
      "Yếu\n"
     ]
    }
   ],
   "source": [
    "#Bài 15\n",
    "a = float(input(\"Nhập điểm trung bình: \"))\n",
    "if a>=8.0:\n",
    "    print(\"Giỏi\")\n",
    "elif a>=6.5:\n",
    "    print(\"Khá\")\n",
    "elif a>=5.0:\n",
    "    print(\"Trung bình\")\n",
    "else:\n",
    "    print(\"Yếu\")"
   ]
  },
  {
   "cell_type": "code",
   "execution_count": 1,
   "id": "ff076a5f-2660-4f96-a729-84b0082edd5f",
   "metadata": {},
   "outputs": [
    {
     "name": "stdin",
     "output_type": "stream",
     "text": [
      "Nhập số thực:  2.7\n"
     ]
    },
    {
     "name": "stdout",
     "output_type": "stream",
     "text": [
      "2 3 3\n"
     ]
    }
   ],
   "source": [
    "#Bài 16\n",
    "x = float(input(\"Nhập số thực: \"))\n",
    "#Làm tròn xuống\n",
    "if x>=0:\n",
    "    floor_val = int(x)\n",
    "else:\n",
    "    floor_val = int(x) -(1 if x!=int(x) else 0)\n",
    "\n",
    "#làm tròn lên\n",
    "if x>=0:\n",
    "    ceil_val = int(x) + (1 if x!=int(x) else 0)\n",
    "else:\n",
    "    ceil_val = int(x)\n",
    "\n",
    "#Làm tròn tới số nguyên gần nhất\n",
    "frac = x-int(x)\n",
    "if x>=0:\n",
    "    frac = int(x)+(1 if frac >=0.5 else 0)\n",
    "else:\n",
    "    frac = int(x)-(1 if abs(frac)>=0.5 else 0)\n",
    "\n",
    "print(floor_val, ceil_val, frac)"
   ]
  },
  {
   "cell_type": "code",
   "execution_count": null,
   "id": "5677d97b-542e-40d3-8bba-afd77524f2b4",
   "metadata": {},
   "outputs": [],
   "source": []
  }
 ],
 "metadata": {
  "kernelspec": {
   "display_name": "Python 3 (ipykernel)",
   "language": "python",
   "name": "python3"
  },
  "language_info": {
   "codemirror_mode": {
    "name": "ipython",
    "version": 3
   },
   "file_extension": ".py",
   "mimetype": "text/x-python",
   "name": "python",
   "nbconvert_exporter": "python",
   "pygments_lexer": "ipython3",
   "version": "3.13.7"
  }
 },
 "nbformat": 4,
 "nbformat_minor": 5
}
