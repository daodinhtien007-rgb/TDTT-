{
 "cells": [
  {
   "cell_type": "code",
   "execution_count": 5,
   "id": "9d4febb8-497d-4940-b9a2-19cbc81e096b",
   "metadata": {},
   "outputs": [
    {
     "name": "stdin",
     "output_type": "stream",
     "text": [
      "Nhập số nguyên n:  3\n"
     ]
    },
    {
     "name": "stdout",
     "output_type": "stream",
     "text": [
      "Giá trị n * 2 = 6\n"
     ]
    }
   ],
   "source": [
    "#Bài 1\n",
    "n = int(input(\"Nhập số nguyên n: \"))\n",
    "print(\"Giá trị n * 2 = \" + str(n * 2))"
   ]
  },
  {
   "cell_type": "code",
   "execution_count": 9,
   "id": "b85cec4c-09db-4323-ac77-e82d2f6a94da",
   "metadata": {},
   "outputs": [
    {
     "name": "stdin",
     "output_type": "stream",
     "text": [
      "Nhập chiều rộng:  3\n",
      "Nhập chiều dài:  4\n"
     ]
    },
    {
     "name": "stdout",
     "output_type": "stream",
     "text": [
      "Diện tích còn lại =  4.93\n"
     ]
    }
   ],
   "source": [
    "#Bài 2\n",
    "a = float(input(\"Nhập chiều rộng: \"))\n",
    "b = float(input(\"Nhập chiều dài: \"))\n",
    "r = a / 2\n",
    "S_hinh_tron = 3.14 * (r ** 2)\n",
    "S_hcn = a * b\n",
    "S_con_lai = S_hcn - S_hinh_tron\n",
    "print(\"Diện tích còn lại = \", round(S_con_lai,2))"
   ]
  },
  {
   "cell_type": "code",
   "execution_count": 14,
   "id": "cf787c7c-60a9-46fb-ad62-26e1c446176e",
   "metadata": {},
   "outputs": [
    {
     "name": "stdin",
     "output_type": "stream",
     "text": [
      "Nhập vào một kí tự:  a\n"
     ]
    },
    {
     "name": "stdout",
     "output_type": "stream",
     "text": [
      "Kí tự trả về là:  A\n"
     ]
    }
   ],
   "source": [
    "#Bài 3\n",
    "c = input(\"Nhập vào một kí tự: \")\n",
    "if c.isupper() :  #Kiểm tra kí tự có phải chữ in hoa không\n",
    "    print(\"Kí tự trả về là: \", c.lower())\n",
    "else :\n",
    "    print(\"Kí tự trả về là: \", c.upper())"
   ]
  },
  {
   "cell_type": "code",
   "execution_count": 2,
   "id": "813c925f-c310-467c-9e9d-ac7574c4b9b1",
   "metadata": {},
   "outputs": [
    {
     "name": "stdin",
     "output_type": "stream",
     "text": [
      "Nhập vào một kí tự:  c\n"
     ]
    },
    {
     "name": "stdout",
     "output_type": "stream",
     "text": [
      "c là kí tự alphabet\n"
     ]
    }
   ],
   "source": [
    "#Bài 4\n",
    "c = input(\"Nhập vào một kí tự: \")\n",
    "if c.isupper():\n",
    "    print(\"{} là kí tự alphabet\".format(c.upper()))\n",
    "elif c.islower():\n",
    "    print(\"{} là kí tự alphabet\".format(c.lower()))\n",
    "else:\n",
    "    print(\"{} không phải là kí tự alphabet\".format(c))"
   ]
  },
  {
   "cell_type": "code",
   "execution_count": 9,
   "id": "a69e976c-b27c-4529-ba23-b867c450649e",
   "metadata": {},
   "outputs": [
    {
     "name": "stdin",
     "output_type": "stream",
     "text": [
      "Nhập vào kí tự in hoa:  C\n"
     ]
    },
    {
     "name": "stdout",
     "output_type": "stream",
     "text": [
      "Chữ cái liền trước của C là b \n",
      "Chữ cái liền sau của C là d \n"
     ]
    }
   ],
   "source": [
    "#Bài 5\n",
    "c = input(\"Nhập vào kí tự in hoa: \")\n",
    "if c == \"A\" :\n",
    "    print(\"'A' là trường hợp đặc biệt trước nó không có chữ cái nào \")\n",
    "    print(\"Chữ cái liền sau 'A' là: \", chr(ord(c) + 1).lower())\n",
    "else :\n",
    "    truoc = chr(ord(c) - 1).lower()\n",
    "    sau = chr(ord(c) + 1).lower()\n",
    "    print(\"Chữ cái liền trước của {} là {} \".format(c,truoc))\n",
    "    print(\"Chữ cái liền sau của {} là {} \".format(c,sau))\n",
    "    "
   ]
  },
  {
   "cell_type": "code",
   "execution_count": 4,
   "id": "75a9ca97-3845-4a1a-890a-d84e2a964e63",
   "metadata": {},
   "outputs": [
    {
     "name": "stdin",
     "output_type": "stream",
     "text": [
      "Nhập vào a:  1\n",
      "Nhập vào b:  2\n",
      "Nhập vào c:  5\n"
     ]
    },
    {
     "name": "stdout",
     "output_type": "stream",
     "text": [
      "Khong phai 3 canh của tam giac\n"
     ]
    }
   ],
   "source": [
    "#Bài 6\n",
    "import math\n",
    "a = float(input(\"Nhập vào a: \"))\n",
    "b = float(input(\"Nhập vào b: \"))\n",
    "c = float(input(\"Nhập vào c: \"))\n",
    "if (a + b) > c and (a + c) > b and (b + c) > a :\n",
    "    if (a ** 2 + b ** 2) == c**2 or (a**2 + c**2)==b**2 or (b**2 + c**2) == a**2 :\n",
    "        p = (a+b+c)/2\n",
    "        S = math.sqrt((p*(p-a)*(p-b)*(p-c)))\n",
    "        print(\"a,b,c là cạnh của tam giác vuông với diện tích là {:.1f}\".format(S))\n",
    "    else:\n",
    "        print(\"a,b,c không là cạnh của tam giác vuông\")\n",
    "else: \n",
    "    print(\"Khong phai 3 canh của tam giac\")"
   ]
  },
  {
   "cell_type": "code",
   "execution_count": 11,
   "id": "d47a4608-6de1-4595-a70e-30d9689cd305",
   "metadata": {},
   "outputs": [
    {
     "name": "stdin",
     "output_type": "stream",
     "text": [
      "Nhập vào chuỗi kí tự thường độ dài >= 20:  asdfghjkzxc\n"
     ]
    },
    {
     "name": "stdout",
     "output_type": "stream",
     "text": [
      "Chữ cái thứ 5 là:  g\n",
      "Chữ cái thứ 9 là:  z\n"
     ]
    }
   ],
   "source": [
    "#Bài 7\n",
    "a = input(\"Nhập vào chuỗi kí tự thường độ dài >= 20: \")\n",
    "len(a)\n",
    "print(\"Chữ cái thứ 5 là: \",a[4])\n",
    "print(\"Chữ cái thứ 9 là: \",a[8])"
   ]
  },
  {
   "cell_type": "code",
   "execution_count": 5,
   "id": "38499a59-4ad0-47ab-b377-01c37d376934",
   "metadata": {},
   "outputs": [
    {
     "name": "stdin",
     "output_type": "stream",
     "text": [
      "Ten chu ho:   Nguyen Xuan Long \n",
      "Chỉ số tháng trước:  2097\n",
      "Chỉ số tháng này:  2278\n"
     ]
    },
    {
     "name": "stdout",
     "output_type": "stream",
     "text": [
      "Tien phai tra là:  426038\n"
     ]
    }
   ],
   "source": [
    "#Bài 8\n",
    "ten = input(\"Ten chu ho:  \")\n",
    "chi_so_thang_truoc = int(input(\"Chỉ số tháng trước: \"))\n",
    "chi_so_thang_nay = int(input(\"Chỉ số tháng này: \"))\n",
    "so_kWh = chi_so_thang_nay - chi_so_thang_truoc\n",
    "if so_kWh <=50 :\n",
    "    tien = so_kWh * 1984\n",
    "elif so_kWh <=100:\n",
    "    tien = 50 * 1984 + (so_kWh -50)*2050\n",
    "elif so_kWh <= 200:\n",
    "    tien = 50*1984 + 50*2050 + (so_kWh -100)*2380\n",
    "elif so_kWh <= 300:\n",
    "    tien = 50*1984 + 50*2050 + 100*2380 + (so_kWh -200)*2998\n",
    "elif so_kWh <= 400:\n",
    "    tien = 50*1984 + 50*2050 + 100*2380 + 100 * 2998 + (so_kWh -300)*3350\n",
    "else :\n",
    "    tien = 50*1984 + 50*2050 + 100*2380 + 100*2998 + (so_kWh -400)*3460\n",
    "\n",
    "tien += tien * 0.08\n",
    "tien = int(tien)\n",
    "\n",
    "print(\"Ho va ten\",ten)\n",
    "print(\"Tien phai tra là: \",tien)\n",
    "                         "
   ]
  },
  {
   "cell_type": "code",
   "execution_count": null,
   "id": "3c26e35d-01d2-4b83-b250-967083361bf8",
   "metadata": {},
   "outputs": [],
   "source": []
  }
 ],
 "metadata": {
  "kernelspec": {
   "display_name": "Python 3 (ipykernel)",
   "language": "python",
   "name": "python3"
  },
  "language_info": {
   "codemirror_mode": {
    "name": "ipython",
    "version": 3
   },
   "file_extension": ".py",
   "mimetype": "text/x-python",
   "name": "python",
   "nbconvert_exporter": "python",
   "pygments_lexer": "ipython3",
   "version": "3.13.7"
  }
 },
 "nbformat": 4,
 "nbformat_minor": 5
}
