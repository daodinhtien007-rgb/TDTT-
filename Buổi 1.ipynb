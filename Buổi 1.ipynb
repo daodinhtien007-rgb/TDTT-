{
 "cells": [
  {
   "cell_type": "code",
   "execution_count": 1,
   "id": "1154cc42-fae0-48ef-aa0f-221576b0c99b",
   "metadata": {},
   "outputs": [
    {
     "name": "stdout",
     "output_type": "stream",
     "text": [
      "Hello World!\n"
     ]
    }
   ],
   "source": [
    "#W2A1\n",
    "print(\"Hello World!\")"
   ]
  },
  {
   "cell_type": "code",
   "execution_count": 2,
   "id": "5ad60cc3-87b6-4899-9623-6d1347a8d3f7",
   "metadata": {},
   "outputs": [
    {
     "name": "stdin",
     "output_type": "stream",
     "text": [
      "Nhập tên: Tien\n"
     ]
    },
    {
     "name": "stdout",
     "output_type": "stream",
     "text": [
      "Xin chào:  Tien\n"
     ]
    }
   ],
   "source": [
    "#W2A2\n",
    "ten = input(\"Nhập tên:\")\n",
    "print(\"Xin chào: \",ten)"
   ]
  },
  {
   "cell_type": "code",
   "execution_count": 13,
   "id": "45a3d879-4a7e-41f0-820e-75e7e10df780",
   "metadata": {},
   "outputs": [
    {
     "name": "stdin",
     "output_type": "stream",
     "text": [
      "Nhập a: 4\n",
      "Nhập b:  2\n"
     ]
    },
    {
     "name": "stdout",
     "output_type": "stream",
     "text": [
      "4+2=6\n",
      "4-2=2\n",
      "4*2=8\n",
      "4//2=2\n",
      "4%2=0\n",
      "4/2=2.00\n"
     ]
    }
   ],
   "source": [
    "#W2A3\n",
    "a = int(input(\"Nhập a:\"))\n",
    "b = int(input(\"Nhập b: \"))\n",
    "print(f\"{a}+{b}={a+b}\")\n",
    "print(f\"{a}-{b}={a-b}\")\n",
    "print(f\"{a}*{b}={a*b}\")\n",
    "print(f\"{a}//{b}={a//b}\")\n",
    "print(f\"{a}%{b}={a%b}\")\n",
    "print(f\"{a}/{b}={a/b:.2f}\")"
   ]
  },
  {
   "cell_type": "code",
   "execution_count": 15,
   "id": "5761319f-8297-44dd-ac15-b71dfb0e72ab",
   "metadata": {},
   "outputs": [
    {
     "name": "stdin",
     "output_type": "stream",
     "text": [
      "Nhập a1, b1, c1, a2, b2, a3:  1 2 3 4 5 6 \n"
     ]
    },
    {
     "name": "stdout",
     "output_type": "stream",
     "text": [
      "Điểm trung bình của 6 môn học là:42.0\n"
     ]
    }
   ],
   "source": [
    "#W2A4\n",
    "a1, b1, c1, a2, b2, a3 = map(float,input(\"Nhập a1, b1, c1, a2, b2, a3: \").split())\n",
    "TB = (a1+b1+c1)*1 + (a2+b2)*2 + a3*3\n",
    "print(f\"Điểm trung bình của 6 môn học là:{TB:.1f}\")"
   ]
  },
  {
   "cell_type": "code",
   "execution_count": 18,
   "id": "488df151-c858-40d6-86d7-603261fa1fb8",
   "metadata": {},
   "outputs": [
    {
     "name": "stdin",
     "output_type": "stream",
     "text": [
      "Nhập 2 số a, b: 2 3\n"
     ]
    },
    {
     "name": "stdout",
     "output_type": "stream",
     "text": [
      "2^3=8\n"
     ]
    }
   ],
   "source": [
    "#W2A5\n",
    "a, b = map(int,input(\"Nhập 2 số a, b:\").split())\n",
    "print(f\"{a}^{b}={a**b}\")"
   ]
  },
  {
   "cell_type": "code",
   "execution_count": 23,
   "id": "ffda7c68-ecd5-4aaa-90a2-e4c63dff5c2d",
   "metadata": {},
   "outputs": [
    {
     "name": "stdin",
     "output_type": "stream",
     "text": [
      "Nhập vào kí tự a->z:  a\n"
     ]
    },
    {
     "name": "stdout",
     "output_type": "stream",
     "text": [
      "97\n",
      "A\n"
     ]
    }
   ],
   "source": [
    "#W2A6\n",
    "a = input(\"Nhập vào kí tự a->z: \")\n",
    "print(ord(a))\n",
    "print(chr(ord(a)-32))"
   ]
  },
  {
   "cell_type": "code",
   "execution_count": 25,
   "id": "04672984-51ef-4a65-9025-7a005c100124",
   "metadata": {},
   "outputs": [
    {
     "name": "stdout",
     "output_type": "stream",
     "text": [
      "437\n",
      "437\n"
     ]
    }
   ],
   "source": [
    "#W2A7\n",
    "print(((13**2)*3)+5)\n",
    "print(13**2*3+5)\n"
   ]
  },
  {
   "cell_type": "code",
   "execution_count": 29,
   "id": "1ed09d8a-4941-41d2-8d75-2c1ee9731651",
   "metadata": {},
   "outputs": [
    {
     "name": "stdin",
     "output_type": "stream",
     "text": [
      "Nhập vào nhiệt độ Celcius:  2\n"
     ]
    },
    {
     "name": "stdout",
     "output_type": "stream",
     "text": [
      "2.0℃ =35.60°F\n"
     ]
    }
   ],
   "source": [
    "#W2A8\n",
    "Celcius = float(input(\"Nhập vào nhiệt độ Celcius: \"))\n",
    "Fahrenheit = 9/5 * Celcius +32\n",
    "print(f\"{Celcius}℃ ={Fahrenheit:.2f}°F\")"
   ]
  },
  {
   "cell_type": "code",
   "execution_count": 30,
   "id": "f77e6250-230f-4106-840b-93fea89b273e",
   "metadata": {},
   "outputs": [
    {
     "name": "stdin",
     "output_type": "stream",
     "text": [
      "Nhập giá đồng hồ (USD):  2\n"
     ]
    },
    {
     "name": "stdout",
     "output_type": "stream",
     "text": [
      "Tổng số tiền Đạt phải trả là: $12.80\n"
     ]
    }
   ],
   "source": [
    "#W2A9\n",
    "x = float(input(\"Nhập giá đồng hồ (USD): \"))\n",
    "\n",
    "total_cost = x + 10 + x * 0.3 + x * 0.1\n",
    "total_cost = round(total_cost, 2)\n",
    "\n",
    "print(f\"Tổng số tiền Đạt phải trả là: ${total_cost:.2f}\")"
   ]
  },
  {
   "cell_type": "code",
   "execution_count": 37,
   "id": "643b0e80-bd7a-4787-8b99-b32bed9f92c9",
   "metadata": {},
   "outputs": [
    {
     "name": "stdin",
     "output_type": "stream",
     "text": [
      "Nhập tên 3 người cách nhau bởi dấu cách:  a s d\n"
     ]
    },
    {
     "name": "stdout",
     "output_type": "stream",
     "text": [
      "Hi d, s and a\n"
     ]
    }
   ],
   "source": [
    "#W2A10\n",
    "ten = input(\"Nhập tên 3 người cách nhau bởi dấu cách: \")\n",
    "a = ten.split()\n",
    "print(\"Hi {}, {} and {}\".format(a[2],a[1],a[0]))"
   ]
  },
  {
   "cell_type": "code",
   "execution_count": 39,
   "id": "cfa4a9ab-7f18-4577-a72a-b20190c14bf7",
   "metadata": {},
   "outputs": [
    {
     "name": "stdin",
     "output_type": "stream",
     "text": [
      "Nhập số  giờ:  1\n",
      "Nhập số phút:  3\n"
     ]
    },
    {
     "name": "stdout",
     "output_type": "stream",
     "text": [
      "1giờ3phút =3780giây\n"
     ]
    }
   ],
   "source": [
    "#W2A11\n",
    "a = int(input(\"Nhập số  giờ: \"))\n",
    "b = int(input(\"Nhập số phút: \"))\n",
    "c = a*3600+b*60\n",
    "print (\"{}giờ{}phút ={}giây\".format(a,b,c))\n"
   ]
  },
  {
   "cell_type": "code",
   "execution_count": 40,
   "id": "21a89a8d-8ace-42fa-b73a-16c4dd84feb0",
   "metadata": {},
   "outputs": [
    {
     "name": "stdout",
     "output_type": "stream",
     "text": [
      "Khối rubik 5x5x5: 150 miếng dán\n",
      "Khối rubik 2x2x2: 24 miếng dán\n",
      "Khối rubik 3x3x3: 54 miếng dán\n",
      "Khối rubik 4x4x4: 96 miếng dán\n"
     ]
    }
   ],
   "source": [
    "#W2A12\n",
    "def rubik_stickers(n):\n",
    "    return 6 * n * n\n",
    "print(f\"Khối rubik 5x5x5: {rubik_stickers(5)} miếng dán\")\n",
    "print(f\"Khối rubik 2x2x2: {rubik_stickers(2)} miếng dán\")\n",
    "print(f\"Khối rubik 3x3x3: {rubik_stickers(3)} miếng dán\")\n",
    "print(f\"Khối rubik 4x4x4: {rubik_stickers(4)} miếng dán\")"
   ]
  },
  {
   "cell_type": "code",
   "execution_count": 41,
   "id": "9cd890f3-30da-4560-b484-59624c51918c",
   "metadata": {},
   "outputs": [
    {
     "name": "stdin",
     "output_type": "stream",
     "text": [
      "Nhập vào số a:  123\n",
      "Nhập vào số b:  1\n"
     ]
    },
    {
     "name": "stdout",
     "output_type": "stream",
     "text": [
      "Hàng đơn vị của tích a,b là:  3\n"
     ]
    }
   ],
   "source": [
    "#W2A13\n",
    "a = int(input(\"Nhập vào số a: \"))\n",
    "b = int(input(\"Nhập vào số b: \"))\n",
    "print(\"Hàng đơn vị của tích a,b là: \", (a * b) % 10)"
   ]
  },
  {
   "cell_type": "code",
   "execution_count": 42,
   "id": "146f9e33-0009-41a2-8b2f-c976ecbb9565",
   "metadata": {},
   "outputs": [
    {
     "name": "stdin",
     "output_type": "stream",
     "text": [
      "Nhập a:  2\n",
      "Nhập b:  3\n"
     ]
    },
    {
     "name": "stdout",
     "output_type": "stream",
     "text": [
      "Trước khi hoán đổi: a = 2, b = 3\n",
      "Sau khi hoán đổi: a = 3, b = 2\n"
     ]
    }
   ],
   "source": [
    "#W2A14\n",
    "a = input(\"Nhập a: \")\n",
    "b = input(\"Nhập b: \")\n",
    "print(f\"Trước khi hoán đổi: a = {a}, b = {b}\")\n",
    "\n",
    "a, b = b, a\n",
    "print(f\"Sau khi hoán đổi: a = {a}, b = {b}\")"
   ]
  },
  {
   "cell_type": "code",
   "execution_count": 43,
   "id": "bcbee10a-403a-433d-a090-808061245fe0",
   "metadata": {},
   "outputs": [
    {
     "name": "stdout",
     "output_type": "stream",
     "text": [
      "Spring\n",
      "Summer\n",
      "Autumn\n",
      "Winter\n"
     ]
    }
   ],
   "source": [
    "#W2A16\n",
    "print(\"Spring\\nSummer\\nAutumn\\nWinter\")"
   ]
  },
  {
   "cell_type": "code",
   "execution_count": 44,
   "id": "e11b42c3-7b7f-43ef-9df3-23d7d0e185c0",
   "metadata": {},
   "outputs": [
    {
     "name": "stdout",
     "output_type": "stream",
     "text": [
      "*\n",
      "**\n",
      "***\n"
     ]
    }
   ],
   "source": [
    "#W2A17\n",
    "print(\"*\")\n",
    "print(\"**\")\n",
    "print(\"***\")"
   ]
  },
  {
   "cell_type": "code",
   "execution_count": 45,
   "id": "efc47eb7-0ec8-4864-a7ee-b527f324a164",
   "metadata": {},
   "outputs": [
    {
     "name": "stdout",
     "output_type": "stream",
     "text": [
      "### # #    ### ###\n",
      " #  #   #   #   #\n",
      " #  #    #  #   #\n",
      " #  #   #   #   #  \n",
      " #  # #     #   #\n"
     ]
    }
   ],
   "source": [
    "#W2A18\n",
    "print(\"### # #    ### ###\")\n",
    "print(\" #  #   #   #   #\")\n",
    "print(\" #  #    #  #   #\")\n",
    "print(\" #  #   #   #   #  \")\n",
    "print(\" #  # #     #   #\")"
   ]
  },
  {
   "cell_type": "code",
   "execution_count": 46,
   "id": "f45abe1c-cd22-4e69-946a-794fb2c1ddb2",
   "metadata": {},
   "outputs": [
    {
     "name": "stdout",
     "output_type": "stream",
     "text": [
      "Monday\n",
      "Tuesday\n",
      "Wednesday\n",
      "Thursday\n",
      "Friday\n",
      "Saturday\n",
      "Sunday\n"
     ]
    }
   ],
   "source": [
    "#W2A19\n",
    "print(\"Monday\\nTuesday\\nWednesday\\nThursday\\nFriday\\nSaturday\\nSunday\")"
   ]
  },
  {
   "cell_type": "code",
   "execution_count": 47,
   "id": "25ba24d9-4d57-4d6d-8f09-9e86e4383a2b",
   "metadata": {},
   "outputs": [
    {
     "name": "stdout",
     "output_type": "stream",
     "text": [
      "January\n",
      "February\n",
      "March\n",
      "April\n",
      "May\n",
      "June\n",
      "July\n",
      "August\n",
      "September\n"
     ]
    }
   ],
   "source": [
    "#W2A20\n",
    "print(\"January\\nFebruary\\nMarch\\nApril\\nMay\\nJune\\nJuly\\nAugust\\nSeptember\")"
   ]
  },
  {
   "cell_type": "code",
   "execution_count": null,
   "id": "2b728820-4e34-45b2-8ff5-58eb132c125e",
   "metadata": {},
   "outputs": [],
   "source": []
  }
 ],
 "metadata": {
  "kernelspec": {
   "display_name": "Python 3 (ipykernel)",
   "language": "python",
   "name": "python3"
  },
  "language_info": {
   "codemirror_mode": {
    "name": "ipython",
    "version": 3
   },
   "file_extension": ".py",
   "mimetype": "text/x-python",
   "name": "python",
   "nbconvert_exporter": "python",
   "pygments_lexer": "ipython3",
   "version": "3.13.7"
  }
 },
 "nbformat": 4,
 "nbformat_minor": 5
}
